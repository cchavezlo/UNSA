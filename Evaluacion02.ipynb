{
  "nbformat": 4,
  "nbformat_minor": 0,
  "metadata": {
    "colab": {
      "name": "Evaluacion02.ipynb",
      "provenance": [],
      "collapsed_sections": [],
      "authorship_tag": "ABX9TyMUJCv1ruRrtOqVMuZ+v7OS",
      "include_colab_link": true
    },
    "kernelspec": {
      "name": "python3",
      "display_name": "Python 3"
    },
    "language_info": {
      "name": "python"
    }
  },
  "cells": [
    {
      "cell_type": "markdown",
      "metadata": {
        "id": "view-in-github",
        "colab_type": "text"
      },
      "source": [
        "<a href=\"https://colab.research.google.com/github/cchavezlo/UNSA/blob/master/Evaluacion02.ipynb\" target=\"_parent\"><img src=\"https://colab.research.google.com/assets/colab-badge.svg\" alt=\"Open In Colab\"/></a>"
      ]
    },
    {
      "cell_type": "code",
      "metadata": {
        "id": "JH4-IRbXzyoJ"
      },
      "source": [
        "import pandas as pd\n",
        "import numpy as np\n",
        "import matplotlib.pyplot as plt\n",
        "from math import sqrt\n",
        "import time\n",
        "import seaborn as sns"
      ],
      "execution_count": 5,
      "outputs": []
    },
    {
      "cell_type": "code",
      "metadata": {
        "id": "JvdTIIuK0qNf",
        "colab": {
          "base_uri": "https://localhost:8080/"
        },
        "outputId": "14407554-6e89-43ce-988b-bf3ad8d88763"
      },
      "source": [
        "from google.colab import drive\n",
        "drive.mount('/content/drive')"
      ],
      "execution_count": 6,
      "outputs": [
        {
          "output_type": "stream",
          "text": [
            "Mounted at /content/drive\n"
          ],
          "name": "stdout"
        }
      ]
    },
    {
      "cell_type": "code",
      "metadata": {
        "colab": {
          "base_uri": "https://localhost:8080/",
          "height": 271
        },
        "id": "wNvrr-5tKtBx",
        "outputId": "c4693c86-6026-4a33-8cc2-8d9c3a382c12"
      },
      "source": [
        "data=pd.read_csv('/content/drive/MyDrive/Colab Notebooks/tmdb-movies.csv')\n",
        "#data.info()\n",
        "data.head(2)"
      ],
      "execution_count": 66,
      "outputs": [
        {
          "output_type": "execute_result",
          "data": {
            "text/html": [
              "<div>\n",
              "<style scoped>\n",
              "    .dataframe tbody tr th:only-of-type {\n",
              "        vertical-align: middle;\n",
              "    }\n",
              "\n",
              "    .dataframe tbody tr th {\n",
              "        vertical-align: top;\n",
              "    }\n",
              "\n",
              "    .dataframe thead th {\n",
              "        text-align: right;\n",
              "    }\n",
              "</style>\n",
              "<table border=\"1\" class=\"dataframe\">\n",
              "  <thead>\n",
              "    <tr style=\"text-align: right;\">\n",
              "      <th></th>\n",
              "      <th>id</th>\n",
              "      <th>imdb_id</th>\n",
              "      <th>popularity</th>\n",
              "      <th>budget</th>\n",
              "      <th>revenue</th>\n",
              "      <th>original_title</th>\n",
              "      <th>cast</th>\n",
              "      <th>homepage</th>\n",
              "      <th>director</th>\n",
              "      <th>tagline</th>\n",
              "      <th>keywords</th>\n",
              "      <th>overview</th>\n",
              "      <th>runtime</th>\n",
              "      <th>genres</th>\n",
              "      <th>production_companies</th>\n",
              "      <th>release_date</th>\n",
              "      <th>vote_count</th>\n",
              "      <th>vote_average</th>\n",
              "      <th>release_year</th>\n",
              "      <th>budget_adj</th>\n",
              "      <th>revenue_adj</th>\n",
              "    </tr>\n",
              "  </thead>\n",
              "  <tbody>\n",
              "    <tr>\n",
              "      <th>0</th>\n",
              "      <td>135397</td>\n",
              "      <td>tt0369610</td>\n",
              "      <td>32.985763</td>\n",
              "      <td>150000000</td>\n",
              "      <td>1513528810</td>\n",
              "      <td>Jurassic World</td>\n",
              "      <td>Chris Pratt|Bryce Dallas Howard|Irrfan Khan|Vi...</td>\n",
              "      <td>http://www.jurassicworld.com/</td>\n",
              "      <td>Colin Trevorrow</td>\n",
              "      <td>The park is open.</td>\n",
              "      <td>monster|dna|tyrannosaurus rex|velociraptor|island</td>\n",
              "      <td>Twenty-two years after the events of Jurassic ...</td>\n",
              "      <td>124</td>\n",
              "      <td>Action|Adventure|Science Fiction|Thriller</td>\n",
              "      <td>Universal Studios|Amblin Entertainment|Legenda...</td>\n",
              "      <td>6/9/15</td>\n",
              "      <td>5562</td>\n",
              "      <td>6.5</td>\n",
              "      <td>2015</td>\n",
              "      <td>1.379999e+08</td>\n",
              "      <td>1.392446e+09</td>\n",
              "    </tr>\n",
              "    <tr>\n",
              "      <th>1</th>\n",
              "      <td>76341</td>\n",
              "      <td>tt1392190</td>\n",
              "      <td>28.419936</td>\n",
              "      <td>150000000</td>\n",
              "      <td>378436354</td>\n",
              "      <td>Mad Max: Fury Road</td>\n",
              "      <td>Tom Hardy|Charlize Theron|Hugh Keays-Byrne|Nic...</td>\n",
              "      <td>http://www.madmaxmovie.com/</td>\n",
              "      <td>George Miller</td>\n",
              "      <td>What a Lovely Day.</td>\n",
              "      <td>future|chase|post-apocalyptic|dystopia|australia</td>\n",
              "      <td>An apocalyptic story set in the furthest reach...</td>\n",
              "      <td>120</td>\n",
              "      <td>Action|Adventure|Science Fiction|Thriller</td>\n",
              "      <td>Village Roadshow Pictures|Kennedy Miller Produ...</td>\n",
              "      <td>5/13/15</td>\n",
              "      <td>6185</td>\n",
              "      <td>7.1</td>\n",
              "      <td>2015</td>\n",
              "      <td>1.379999e+08</td>\n",
              "      <td>3.481613e+08</td>\n",
              "    </tr>\n",
              "  </tbody>\n",
              "</table>\n",
              "</div>"
            ],
            "text/plain": [
              "       id    imdb_id  popularity  ...  release_year    budget_adj   revenue_adj\n",
              "0  135397  tt0369610   32.985763  ...          2015  1.379999e+08  1.392446e+09\n",
              "1   76341  tt1392190   28.419936  ...          2015  1.379999e+08  3.481613e+08\n",
              "\n",
              "[2 rows x 21 columns]"
            ]
          },
          "metadata": {
            "tags": []
          },
          "execution_count": 66
        }
      ]
    },
    {
      "cell_type": "code",
      "metadata": {
        "colab": {
          "base_uri": "https://localhost:8080/"
        },
        "id": "l-6EjMrf1oTs",
        "outputId": "19f83e4f-f9f5-4611-9318-8635e52816ee"
      },
      "source": [
        "data.describe()\n",
        "data.shape #Filas, columnas"
      ],
      "execution_count": 67,
      "outputs": [
        {
          "output_type": "execute_result",
          "data": {
            "text/plain": [
              "(10866, 21)"
            ]
          },
          "metadata": {
            "tags": []
          },
          "execution_count": 67
        }
      ]
    },
    {
      "cell_type": "markdown",
      "metadata": {
        "id": "LskINgt42-ym"
      },
      "source": [
        "En primer lugar, eliminemos las columnas que no usaremos, ya que no afectarán el análisis. No creo que necesitemos: (id, imdb_id, página de inicio, director, lema, palabras clave, descripción general, empresas_de_producción, presupuesto_adj, ingreso_adj, recuento de votos, popularidad)\n",
        "\n"
      ]
    },
    {
      "cell_type": "code",
      "metadata": {
        "id": "zABGcgAM3JJR"
      },
      "source": [
        "#Eliminando Columnas que no utilizare en el análisis\n",
        "columns_drop=['id','imdb_id','homepage','overview', 'production_companies', 'budget_adj', 'revenue_adj']\n",
        "data.drop(columns_drop, axis =1 , inplace = True)\n",
        "\n"
      ],
      "execution_count": 68,
      "outputs": []
    },
    {
      "cell_type": "code",
      "metadata": {
        "colab": {
          "base_uri": "https://localhost:8080/",
          "height": 271
        },
        "id": "edX96kZh5ix5",
        "outputId": "b61bf6a3-ffcb-4a9e-d2fc-8b64e62d2a9c"
      },
      "source": [
        "data.head(2)"
      ],
      "execution_count": 69,
      "outputs": [
        {
          "output_type": "execute_result",
          "data": {
            "text/html": [
              "<div>\n",
              "<style scoped>\n",
              "    .dataframe tbody tr th:only-of-type {\n",
              "        vertical-align: middle;\n",
              "    }\n",
              "\n",
              "    .dataframe tbody tr th {\n",
              "        vertical-align: top;\n",
              "    }\n",
              "\n",
              "    .dataframe thead th {\n",
              "        text-align: right;\n",
              "    }\n",
              "</style>\n",
              "<table border=\"1\" class=\"dataframe\">\n",
              "  <thead>\n",
              "    <tr style=\"text-align: right;\">\n",
              "      <th></th>\n",
              "      <th>popularity</th>\n",
              "      <th>budget</th>\n",
              "      <th>revenue</th>\n",
              "      <th>original_title</th>\n",
              "      <th>cast</th>\n",
              "      <th>director</th>\n",
              "      <th>tagline</th>\n",
              "      <th>keywords</th>\n",
              "      <th>runtime</th>\n",
              "      <th>genres</th>\n",
              "      <th>release_date</th>\n",
              "      <th>vote_count</th>\n",
              "      <th>vote_average</th>\n",
              "      <th>release_year</th>\n",
              "    </tr>\n",
              "  </thead>\n",
              "  <tbody>\n",
              "    <tr>\n",
              "      <th>0</th>\n",
              "      <td>32.985763</td>\n",
              "      <td>150000000</td>\n",
              "      <td>1513528810</td>\n",
              "      <td>Jurassic World</td>\n",
              "      <td>Chris Pratt|Bryce Dallas Howard|Irrfan Khan|Vi...</td>\n",
              "      <td>Colin Trevorrow</td>\n",
              "      <td>The park is open.</td>\n",
              "      <td>monster|dna|tyrannosaurus rex|velociraptor|island</td>\n",
              "      <td>124</td>\n",
              "      <td>Action|Adventure|Science Fiction|Thriller</td>\n",
              "      <td>6/9/15</td>\n",
              "      <td>5562</td>\n",
              "      <td>6.5</td>\n",
              "      <td>2015</td>\n",
              "    </tr>\n",
              "    <tr>\n",
              "      <th>1</th>\n",
              "      <td>28.419936</td>\n",
              "      <td>150000000</td>\n",
              "      <td>378436354</td>\n",
              "      <td>Mad Max: Fury Road</td>\n",
              "      <td>Tom Hardy|Charlize Theron|Hugh Keays-Byrne|Nic...</td>\n",
              "      <td>George Miller</td>\n",
              "      <td>What a Lovely Day.</td>\n",
              "      <td>future|chase|post-apocalyptic|dystopia|australia</td>\n",
              "      <td>120</td>\n",
              "      <td>Action|Adventure|Science Fiction|Thriller</td>\n",
              "      <td>5/13/15</td>\n",
              "      <td>6185</td>\n",
              "      <td>7.1</td>\n",
              "      <td>2015</td>\n",
              "    </tr>\n",
              "  </tbody>\n",
              "</table>\n",
              "</div>"
            ],
            "text/plain": [
              "   popularity     budget     revenue  ... vote_count vote_average release_year\n",
              "0   32.985763  150000000  1513528810  ...       5562          6.5         2015\n",
              "1   28.419936  150000000   378436354  ...       6185          7.1         2015\n",
              "\n",
              "[2 rows x 14 columns]"
            ]
          },
          "metadata": {
            "tags": []
          },
          "execution_count": 69
        }
      ]
    },
    {
      "cell_type": "markdown",
      "metadata": {
        "id": "GZTToPii6Kvl"
      },
      "source": [
        "Ahora evalúo si no hay Valores nulos y duplicados.\n"
      ]
    },
    {
      "cell_type": "code",
      "metadata": {
        "colab": {
          "base_uri": "https://localhost:8080/",
          "height": 133
        },
        "id": "ISo192Tu58Dv",
        "outputId": "cef666c8-2bb6-41fa-d510-32d29900f758"
      },
      "source": [
        "data[data.duplicated()]"
      ],
      "execution_count": 70,
      "outputs": [
        {
          "output_type": "execute_result",
          "data": {
            "text/html": [
              "<div>\n",
              "<style scoped>\n",
              "    .dataframe tbody tr th:only-of-type {\n",
              "        vertical-align: middle;\n",
              "    }\n",
              "\n",
              "    .dataframe tbody tr th {\n",
              "        vertical-align: top;\n",
              "    }\n",
              "\n",
              "    .dataframe thead th {\n",
              "        text-align: right;\n",
              "    }\n",
              "</style>\n",
              "<table border=\"1\" class=\"dataframe\">\n",
              "  <thead>\n",
              "    <tr style=\"text-align: right;\">\n",
              "      <th></th>\n",
              "      <th>popularity</th>\n",
              "      <th>budget</th>\n",
              "      <th>revenue</th>\n",
              "      <th>original_title</th>\n",
              "      <th>cast</th>\n",
              "      <th>director</th>\n",
              "      <th>tagline</th>\n",
              "      <th>keywords</th>\n",
              "      <th>runtime</th>\n",
              "      <th>genres</th>\n",
              "      <th>release_date</th>\n",
              "      <th>vote_count</th>\n",
              "      <th>vote_average</th>\n",
              "      <th>release_year</th>\n",
              "    </tr>\n",
              "  </thead>\n",
              "  <tbody>\n",
              "    <tr>\n",
              "      <th>2090</th>\n",
              "      <td>0.59643</td>\n",
              "      <td>30000000</td>\n",
              "      <td>967000</td>\n",
              "      <td>TEKKEN</td>\n",
              "      <td>Jon Foo|Kelly Overton|Cary-Hiroyuki Tagawa|Ian...</td>\n",
              "      <td>Dwight H. Little</td>\n",
              "      <td>Survival is no game</td>\n",
              "      <td>martial arts|dystopia|based on video game|mart...</td>\n",
              "      <td>92</td>\n",
              "      <td>Crime|Drama|Action|Thriller|Science Fiction</td>\n",
              "      <td>3/20/10</td>\n",
              "      <td>110</td>\n",
              "      <td>5.0</td>\n",
              "      <td>2010</td>\n",
              "    </tr>\n",
              "  </tbody>\n",
              "</table>\n",
              "</div>"
            ],
            "text/plain": [
              "      popularity    budget  revenue  ... vote_count vote_average release_year\n",
              "2090     0.59643  30000000   967000  ...        110          5.0         2010\n",
              "\n",
              "[1 rows x 14 columns]"
            ]
          },
          "metadata": {
            "tags": []
          },
          "execution_count": 70
        }
      ]
    },
    {
      "cell_type": "code",
      "metadata": {
        "id": "2oWJqIcM6i9Q"
      },
      "source": [
        "#Solo se tiene 1 valor duplicado, elimino uno y me quedo con el otro\n",
        "data.drop_duplicates(keep='first',inplace=True)"
      ],
      "execution_count": 71,
      "outputs": []
    },
    {
      "cell_type": "code",
      "metadata": {
        "colab": {
          "base_uri": "https://localhost:8080/"
        },
        "id": "s-VP0O9v7CKj",
        "outputId": "194bd5b8-cef3-466a-ccb5-a29537e636f7"
      },
      "source": [
        "#Evaluo si hay Valores nulos\n",
        "data.isnull().sum()\n",
        "#Como se ve, tenemos 76 valores perdidos en 'cast' y asi..."
      ],
      "execution_count": 72,
      "outputs": [
        {
          "output_type": "execute_result",
          "data": {
            "text/plain": [
              "popularity           0\n",
              "budget               0\n",
              "revenue              0\n",
              "original_title       0\n",
              "cast                76\n",
              "director            44\n",
              "tagline           2824\n",
              "keywords          1493\n",
              "runtime              0\n",
              "genres              23\n",
              "release_date         0\n",
              "vote_count           0\n",
              "vote_average         0\n",
              "release_year         0\n",
              "dtype: int64"
            ]
          },
          "metadata": {
            "tags": []
          },
          "execution_count": 72
        }
      ]
    },
    {
      "cell_type": "code",
      "metadata": {
        "colab": {
          "base_uri": "https://localhost:8080/",
          "height": 1000
        },
        "id": "Lpy9dMyP7ern",
        "outputId": "022bcc24-7cdc-41fa-9aa1-37bd5a0614ac"
      },
      "source": [
        "#Muestro los registros con valores perdidos en el atributo genero\n",
        "data[data.genres.isnull()]"
      ],
      "execution_count": 73,
      "outputs": [
        {
          "output_type": "execute_result",
          "data": {
            "text/html": [
              "<div>\n",
              "<style scoped>\n",
              "    .dataframe tbody tr th:only-of-type {\n",
              "        vertical-align: middle;\n",
              "    }\n",
              "\n",
              "    .dataframe tbody tr th {\n",
              "        vertical-align: top;\n",
              "    }\n",
              "\n",
              "    .dataframe thead th {\n",
              "        text-align: right;\n",
              "    }\n",
              "</style>\n",
              "<table border=\"1\" class=\"dataframe\">\n",
              "  <thead>\n",
              "    <tr style=\"text-align: right;\">\n",
              "      <th></th>\n",
              "      <th>popularity</th>\n",
              "      <th>budget</th>\n",
              "      <th>revenue</th>\n",
              "      <th>original_title</th>\n",
              "      <th>cast</th>\n",
              "      <th>director</th>\n",
              "      <th>tagline</th>\n",
              "      <th>keywords</th>\n",
              "      <th>runtime</th>\n",
              "      <th>genres</th>\n",
              "      <th>release_date</th>\n",
              "      <th>vote_count</th>\n",
              "      <th>vote_average</th>\n",
              "      <th>release_year</th>\n",
              "    </tr>\n",
              "  </thead>\n",
              "  <tbody>\n",
              "    <tr>\n",
              "      <th>424</th>\n",
              "      <td>0.244648</td>\n",
              "      <td>0</td>\n",
              "      <td>0</td>\n",
              "      <td>Belli di papÃ</td>\n",
              "      <td>Diego Abatantuono|Matilde Gioli|Andrea Pisani|...</td>\n",
              "      <td>Guido Chiesa</td>\n",
              "      <td>NaN</td>\n",
              "      <td>NaN</td>\n",
              "      <td>100</td>\n",
              "      <td>NaN</td>\n",
              "      <td>10/29/15</td>\n",
              "      <td>21</td>\n",
              "      <td>6.1</td>\n",
              "      <td>2015</td>\n",
              "    </tr>\n",
              "    <tr>\n",
              "      <th>620</th>\n",
              "      <td>0.129696</td>\n",
              "      <td>0</td>\n",
              "      <td>0</td>\n",
              "      <td>All Hallows' Eve 2</td>\n",
              "      <td>NaN</td>\n",
              "      <td>Antonio Padovan|Bryan Norton|Marc Roussel|Ryan...</td>\n",
              "      <td>NaN</td>\n",
              "      <td>NaN</td>\n",
              "      <td>90</td>\n",
              "      <td>NaN</td>\n",
              "      <td>10/6/15</td>\n",
              "      <td>13</td>\n",
              "      <td>5.0</td>\n",
              "      <td>2015</td>\n",
              "    </tr>\n",
              "    <tr>\n",
              "      <th>997</th>\n",
              "      <td>0.330431</td>\n",
              "      <td>0</td>\n",
              "      <td>0</td>\n",
              "      <td>Star Wars Rebels: Spark of Rebellion</td>\n",
              "      <td>Freddie Prinze Jr.|Vanessa Marshall|Steve Blum...</td>\n",
              "      <td>Steward Lee|Steven G. Lee</td>\n",
              "      <td>NaN</td>\n",
              "      <td>NaN</td>\n",
              "      <td>44</td>\n",
              "      <td>NaN</td>\n",
              "      <td>10/3/14</td>\n",
              "      <td>13</td>\n",
              "      <td>6.8</td>\n",
              "      <td>2014</td>\n",
              "    </tr>\n",
              "    <tr>\n",
              "      <th>1712</th>\n",
              "      <td>0.302095</td>\n",
              "      <td>0</td>\n",
              "      <td>0</td>\n",
              "      <td>Prayers for Bobby</td>\n",
              "      <td>Ryan Kelley|Sigourney Weaver|Henry Czerny|Dan ...</td>\n",
              "      <td>Russell Mulcahy</td>\n",
              "      <td>Before you echo \"amen\" in your home and place ...</td>\n",
              "      <td>NaN</td>\n",
              "      <td>88</td>\n",
              "      <td>NaN</td>\n",
              "      <td>2/27/09</td>\n",
              "      <td>57</td>\n",
              "      <td>7.4</td>\n",
              "      <td>2009</td>\n",
              "    </tr>\n",
              "    <tr>\n",
              "      <th>1897</th>\n",
              "      <td>0.020701</td>\n",
              "      <td>0</td>\n",
              "      <td>0</td>\n",
              "      <td>Jonas Brothers: The Concert Experience</td>\n",
              "      <td>Nick Jonas|Joe Jonas|Kevin Jonas|John Lloyd Ta...</td>\n",
              "      <td>Bruce Hendricks</td>\n",
              "      <td>NaN</td>\n",
              "      <td>duringcreditsstinger</td>\n",
              "      <td>76</td>\n",
              "      <td>NaN</td>\n",
              "      <td>2/27/09</td>\n",
              "      <td>11</td>\n",
              "      <td>7.0</td>\n",
              "      <td>2009</td>\n",
              "    </tr>\n",
              "    <tr>\n",
              "      <th>2370</th>\n",
              "      <td>0.081892</td>\n",
              "      <td>0</td>\n",
              "      <td>0</td>\n",
              "      <td>Freshman Father</td>\n",
              "      <td>Britt Irvin|Merrilyn Gann|Barbara Tyson|Anthon...</td>\n",
              "      <td>Michael Scott</td>\n",
              "      <td>NaN</td>\n",
              "      <td>NaN</td>\n",
              "      <td>0</td>\n",
              "      <td>NaN</td>\n",
              "      <td>6/5/10</td>\n",
              "      <td>12</td>\n",
              "      <td>5.8</td>\n",
              "      <td>2010</td>\n",
              "    </tr>\n",
              "    <tr>\n",
              "      <th>2376</th>\n",
              "      <td>0.068411</td>\n",
              "      <td>0</td>\n",
              "      <td>0</td>\n",
              "      <td>Doctor Who: A Christmas Carol</td>\n",
              "      <td>Matt Smith|Karen Gillan|Arthur Darvill|Michael...</td>\n",
              "      <td>NaN</td>\n",
              "      <td>NaN</td>\n",
              "      <td>NaN</td>\n",
              "      <td>62</td>\n",
              "      <td>NaN</td>\n",
              "      <td>12/25/10</td>\n",
              "      <td>11</td>\n",
              "      <td>7.7</td>\n",
              "      <td>2010</td>\n",
              "    </tr>\n",
              "    <tr>\n",
              "      <th>2853</th>\n",
              "      <td>0.130018</td>\n",
              "      <td>0</td>\n",
              "      <td>0</td>\n",
              "      <td>Vizontele</td>\n",
              "      <td>YÄ±lmaz ErdoÄŸan|Demet Akbag|Altan Erkekli|Cem...</td>\n",
              "      <td>YÄ±lmaz ErdoÄŸan</td>\n",
              "      <td>NaN</td>\n",
              "      <td>NaN</td>\n",
              "      <td>110</td>\n",
              "      <td>NaN</td>\n",
              "      <td>2/2/01</td>\n",
              "      <td>12</td>\n",
              "      <td>7.2</td>\n",
              "      <td>2001</td>\n",
              "    </tr>\n",
              "    <tr>\n",
              "      <th>3279</th>\n",
              "      <td>0.145331</td>\n",
              "      <td>0</td>\n",
              "      <td>0</td>\n",
              "      <td>ì•„ê¸°ì™€ ë‚˜</td>\n",
              "      <td>Jang Keun-suk|Song Ha-yoon|Kim Jeong-Nan</td>\n",
              "      <td>Kim Jin-Yeong</td>\n",
              "      <td>NaN</td>\n",
              "      <td>NaN</td>\n",
              "      <td>96</td>\n",
              "      <td>NaN</td>\n",
              "      <td>8/13/08</td>\n",
              "      <td>11</td>\n",
              "      <td>6.1</td>\n",
              "      <td>2008</td>\n",
              "    </tr>\n",
              "    <tr>\n",
              "      <th>4547</th>\n",
              "      <td>0.520520</td>\n",
              "      <td>0</td>\n",
              "      <td>0</td>\n",
              "      <td>London 2012 Olympic Opening Ceremony: Isles of...</td>\n",
              "      <td>Queen Elizabeth II|Mike Oldfield|Kenneth Brana...</td>\n",
              "      <td>Danny Boyle</td>\n",
              "      <td>Inspire a generation.</td>\n",
              "      <td>NaN</td>\n",
              "      <td>220</td>\n",
              "      <td>NaN</td>\n",
              "      <td>7/27/12</td>\n",
              "      <td>12</td>\n",
              "      <td>8.3</td>\n",
              "      <td>2012</td>\n",
              "    </tr>\n",
              "    <tr>\n",
              "      <th>4732</th>\n",
              "      <td>0.235911</td>\n",
              "      <td>0</td>\n",
              "      <td>0</td>\n",
              "      <td>The Scapegoat</td>\n",
              "      <td>Andrew Scott|Jodhi May|Eileen Atkins|Matthew R...</td>\n",
              "      <td>Charles Sturridge</td>\n",
              "      <td>NaN</td>\n",
              "      <td>coronation|rolls royce</td>\n",
              "      <td>100</td>\n",
              "      <td>NaN</td>\n",
              "      <td>9/9/12</td>\n",
              "      <td>12</td>\n",
              "      <td>6.2</td>\n",
              "      <td>2012</td>\n",
              "    </tr>\n",
              "    <tr>\n",
              "      <th>4797</th>\n",
              "      <td>0.167501</td>\n",
              "      <td>0</td>\n",
              "      <td>0</td>\n",
              "      <td>Doctor Who: The Snowmen</td>\n",
              "      <td>Matt Smith|Jenna Coleman|Richard E. Grant|Ian ...</td>\n",
              "      <td>NaN</td>\n",
              "      <td>NaN</td>\n",
              "      <td>NaN</td>\n",
              "      <td>60</td>\n",
              "      <td>NaN</td>\n",
              "      <td>12/25/12</td>\n",
              "      <td>10</td>\n",
              "      <td>7.8</td>\n",
              "      <td>2012</td>\n",
              "    </tr>\n",
              "    <tr>\n",
              "      <th>4890</th>\n",
              "      <td>0.083202</td>\n",
              "      <td>0</td>\n",
              "      <td>0</td>\n",
              "      <td>Cousin Ben Troop Screening</td>\n",
              "      <td>Jason Schwartzman</td>\n",
              "      <td>Wes Anderson</td>\n",
              "      <td>NaN</td>\n",
              "      <td>NaN</td>\n",
              "      <td>2</td>\n",
              "      <td>NaN</td>\n",
              "      <td>1/1/12</td>\n",
              "      <td>14</td>\n",
              "      <td>7.0</td>\n",
              "      <td>2012</td>\n",
              "    </tr>\n",
              "    <tr>\n",
              "      <th>5830</th>\n",
              "      <td>0.248944</td>\n",
              "      <td>0</td>\n",
              "      <td>0</td>\n",
              "      <td>Doctor Who: The Time of the Doctor</td>\n",
              "      <td>Matt Smith|Jenna Coleman</td>\n",
              "      <td>James Payne</td>\n",
              "      <td>A change is going to come...</td>\n",
              "      <td>NaN</td>\n",
              "      <td>60</td>\n",
              "      <td>NaN</td>\n",
              "      <td>12/25/13</td>\n",
              "      <td>26</td>\n",
              "      <td>8.5</td>\n",
              "      <td>2013</td>\n",
              "    </tr>\n",
              "    <tr>\n",
              "      <th>5934</th>\n",
              "      <td>0.067433</td>\n",
              "      <td>0</td>\n",
              "      <td>0</td>\n",
              "      <td>Prada: Candy</td>\n",
              "      <td>Peter Gadiot|Rodolphe Pauly|LÃ©a Seydoux</td>\n",
              "      <td>Wes Anderson|Roman Coppola</td>\n",
              "      <td>short</td>\n",
              "      <td>NaN</td>\n",
              "      <td>3</td>\n",
              "      <td>NaN</td>\n",
              "      <td>3/25/13</td>\n",
              "      <td>27</td>\n",
              "      <td>6.9</td>\n",
              "      <td>2013</td>\n",
              "    </tr>\n",
              "    <tr>\n",
              "      <th>6043</th>\n",
              "      <td>0.039080</td>\n",
              "      <td>0</td>\n",
              "      <td>0</td>\n",
              "      <td>Bombay Talkies</td>\n",
              "      <td>Aamir Khan|Rani Mukerji|Randeep Hooda|Saqib Sa...</td>\n",
              "      <td>Anurag Kashyap|Dibakar Banerjee|Zoya Akhtar|Ka...</td>\n",
              "      <td>NaN</td>\n",
              "      <td>woman director</td>\n",
              "      <td>127</td>\n",
              "      <td>NaN</td>\n",
              "      <td>5/3/13</td>\n",
              "      <td>12</td>\n",
              "      <td>5.9</td>\n",
              "      <td>2013</td>\n",
              "    </tr>\n",
              "    <tr>\n",
              "      <th>6530</th>\n",
              "      <td>0.092724</td>\n",
              "      <td>0</td>\n",
              "      <td>0</td>\n",
              "      <td>Saw Rebirth</td>\n",
              "      <td>Whit Anderson|Stan Kirsch|Jeff Shuter|George W...</td>\n",
              "      <td>Jeff Shuter|Daniel Viney</td>\n",
              "      <td>Somewhere... Somehow... Something went wrong...</td>\n",
              "      <td>NaN</td>\n",
              "      <td>6</td>\n",
              "      <td>NaN</td>\n",
              "      <td>10/24/05</td>\n",
              "      <td>24</td>\n",
              "      <td>5.9</td>\n",
              "      <td>2005</td>\n",
              "    </tr>\n",
              "    <tr>\n",
              "      <th>8234</th>\n",
              "      <td>0.028874</td>\n",
              "      <td>0</td>\n",
              "      <td>0</td>\n",
              "      <td>Viaggi di nozze</td>\n",
              "      <td>Carlo Verdone|Claudia Gerini|Veronica Pivetti|...</td>\n",
              "      <td>Carlo Verdone</td>\n",
              "      <td>NaN</td>\n",
              "      <td>NaN</td>\n",
              "      <td>103</td>\n",
              "      <td>NaN</td>\n",
              "      <td>12/15/95</td>\n",
              "      <td>44</td>\n",
              "      <td>6.7</td>\n",
              "      <td>1995</td>\n",
              "    </tr>\n",
              "    <tr>\n",
              "      <th>8614</th>\n",
              "      <td>0.273934</td>\n",
              "      <td>0</td>\n",
              "      <td>0</td>\n",
              "      <td>T2 3-D: Battle Across Time</td>\n",
              "      <td>Arnold Schwarzenegger|Linda Hamilton|Edward Fu...</td>\n",
              "      <td>James Cameron</td>\n",
              "      <td>NaN</td>\n",
              "      <td>NaN</td>\n",
              "      <td>12</td>\n",
              "      <td>NaN</td>\n",
              "      <td>1/1/96</td>\n",
              "      <td>14</td>\n",
              "      <td>6.7</td>\n",
              "      <td>1996</td>\n",
              "    </tr>\n",
              "    <tr>\n",
              "      <th>8878</th>\n",
              "      <td>0.038045</td>\n",
              "      <td>0</td>\n",
              "      <td>0</td>\n",
              "      <td>Mom's Got a Date With a Vampire</td>\n",
              "      <td>Matt O'Leary|Laura Vandervoort|Myles Jeffrey|C...</td>\n",
              "      <td>Steve Boyum</td>\n",
              "      <td>NaN</td>\n",
              "      <td>NaN</td>\n",
              "      <td>85</td>\n",
              "      <td>NaN</td>\n",
              "      <td>10/13/00</td>\n",
              "      <td>16</td>\n",
              "      <td>5.4</td>\n",
              "      <td>2000</td>\n",
              "    </tr>\n",
              "    <tr>\n",
              "      <th>9307</th>\n",
              "      <td>0.094652</td>\n",
              "      <td>0</td>\n",
              "      <td>0</td>\n",
              "      <td>Goldeneye</td>\n",
              "      <td>Charles Dance|Phyllis Logan|Patrick Ryecart|La...</td>\n",
              "      <td>Don Boyd</td>\n",
              "      <td>NaN</td>\n",
              "      <td>nazis|secret agent|author|james bond|ian fleming</td>\n",
              "      <td>105</td>\n",
              "      <td>NaN</td>\n",
              "      <td>8/26/89</td>\n",
              "      <td>10</td>\n",
              "      <td>5.3</td>\n",
              "      <td>1989</td>\n",
              "    </tr>\n",
              "    <tr>\n",
              "      <th>9799</th>\n",
              "      <td>0.175008</td>\n",
              "      <td>0</td>\n",
              "      <td>0</td>\n",
              "      <td>The Amputee</td>\n",
              "      <td>Catherine E. Coulson|David Lynch</td>\n",
              "      <td>David Lynch</td>\n",
              "      <td>NaN</td>\n",
              "      <td>NaN</td>\n",
              "      <td>5</td>\n",
              "      <td>NaN</td>\n",
              "      <td>1/1/74</td>\n",
              "      <td>11</td>\n",
              "      <td>5.0</td>\n",
              "      <td>1974</td>\n",
              "    </tr>\n",
              "    <tr>\n",
              "      <th>10659</th>\n",
              "      <td>0.344172</td>\n",
              "      <td>5000</td>\n",
              "      <td>0</td>\n",
              "      <td>The Party at Kitty and Stud's</td>\n",
              "      <td>Sylvester Stallone|Henrietta Holm|Nicholas War...</td>\n",
              "      <td>Morton Lewis</td>\n",
              "      <td>NaN</td>\n",
              "      <td>male nudity|female nudity|group sex|erection|p...</td>\n",
              "      <td>71</td>\n",
              "      <td>NaN</td>\n",
              "      <td>2/10/70</td>\n",
              "      <td>10</td>\n",
              "      <td>3.0</td>\n",
              "      <td>1970</td>\n",
              "    </tr>\n",
              "  </tbody>\n",
              "</table>\n",
              "</div>"
            ],
            "text/plain": [
              "       popularity  budget  revenue  ... vote_count vote_average release_year\n",
              "424      0.244648       0        0  ...         21          6.1         2015\n",
              "620      0.129696       0        0  ...         13          5.0         2015\n",
              "997      0.330431       0        0  ...         13          6.8         2014\n",
              "1712     0.302095       0        0  ...         57          7.4         2009\n",
              "1897     0.020701       0        0  ...         11          7.0         2009\n",
              "2370     0.081892       0        0  ...         12          5.8         2010\n",
              "2376     0.068411       0        0  ...         11          7.7         2010\n",
              "2853     0.130018       0        0  ...         12          7.2         2001\n",
              "3279     0.145331       0        0  ...         11          6.1         2008\n",
              "4547     0.520520       0        0  ...         12          8.3         2012\n",
              "4732     0.235911       0        0  ...         12          6.2         2012\n",
              "4797     0.167501       0        0  ...         10          7.8         2012\n",
              "4890     0.083202       0        0  ...         14          7.0         2012\n",
              "5830     0.248944       0        0  ...         26          8.5         2013\n",
              "5934     0.067433       0        0  ...         27          6.9         2013\n",
              "6043     0.039080       0        0  ...         12          5.9         2013\n",
              "6530     0.092724       0        0  ...         24          5.9         2005\n",
              "8234     0.028874       0        0  ...         44          6.7         1995\n",
              "8614     0.273934       0        0  ...         14          6.7         1996\n",
              "8878     0.038045       0        0  ...         16          5.4         2000\n",
              "9307     0.094652       0        0  ...         10          5.3         1989\n",
              "9799     0.175008       0        0  ...         11          5.0         1974\n",
              "10659    0.344172    5000        0  ...         10          3.0         1970\n",
              "\n",
              "[23 rows x 14 columns]"
            ]
          },
          "metadata": {
            "tags": []
          },
          "execution_count": 73
        }
      ]
    },
    {
      "cell_type": "code",
      "metadata": {
        "id": "zocI8HO-7u_f"
      },
      "source": [
        "#Elimino los registros con valores nulos \n",
        "data.dropna(subset = [\"genres\"], inplace=True)\n",
        "data.dropna(subset = [\"cast\"], inplace=True)\n",
        "data.dropna(subset = [\"director\"], inplace=True)\n",
        "data.dropna(subset = [\"tagline\"], inplace=True)\n",
        "data.dropna(subset = [\"keywords\"], inplace=True)\n",
        "#data[data.genres.isnull()]"
      ],
      "execution_count": 74,
      "outputs": []
    },
    {
      "cell_type": "code",
      "metadata": {
        "colab": {
          "base_uri": "https://localhost:8080/",
          "height": 368
        },
        "id": "1x3fmTmI8XbK",
        "outputId": "bef7f2c7-647c-4e7c-9f73-501bdebbfc3b"
      },
      "source": [
        "#Seria necesario tener en nuestra data peliculas con runtime 0? creo que no tendria sentido\n",
        "data.query('runtime<=0')"
      ],
      "execution_count": 75,
      "outputs": [
        {
          "output_type": "execute_result",
          "data": {
            "text/html": [
              "<div>\n",
              "<style scoped>\n",
              "    .dataframe tbody tr th:only-of-type {\n",
              "        vertical-align: middle;\n",
              "    }\n",
              "\n",
              "    .dataframe tbody tr th {\n",
              "        vertical-align: top;\n",
              "    }\n",
              "\n",
              "    .dataframe thead th {\n",
              "        text-align: right;\n",
              "    }\n",
              "</style>\n",
              "<table border=\"1\" class=\"dataframe\">\n",
              "  <thead>\n",
              "    <tr style=\"text-align: right;\">\n",
              "      <th></th>\n",
              "      <th>popularity</th>\n",
              "      <th>budget</th>\n",
              "      <th>revenue</th>\n",
              "      <th>original_title</th>\n",
              "      <th>cast</th>\n",
              "      <th>director</th>\n",
              "      <th>tagline</th>\n",
              "      <th>keywords</th>\n",
              "      <th>runtime</th>\n",
              "      <th>genres</th>\n",
              "      <th>release_date</th>\n",
              "      <th>vote_count</th>\n",
              "      <th>vote_average</th>\n",
              "      <th>release_year</th>\n",
              "    </tr>\n",
              "  </thead>\n",
              "  <tbody>\n",
              "    <tr>\n",
              "      <th>334</th>\n",
              "      <td>0.357654</td>\n",
              "      <td>0</td>\n",
              "      <td>0</td>\n",
              "      <td>Ronaldo</td>\n",
              "      <td>Cristiano Ronaldo</td>\n",
              "      <td>Anthony Wonke</td>\n",
              "      <td>Astonishing. Intimate. Definitive.</td>\n",
              "      <td>biography|soccer player</td>\n",
              "      <td>0</td>\n",
              "      <td>Documentary</td>\n",
              "      <td>11/9/15</td>\n",
              "      <td>80</td>\n",
              "      <td>6.5</td>\n",
              "      <td>2015</td>\n",
              "    </tr>\n",
              "    <tr>\n",
              "      <th>1289</th>\n",
              "      <td>0.037459</td>\n",
              "      <td>3250000</td>\n",
              "      <td>0</td>\n",
              "      <td>Treehouse</td>\n",
              "      <td>J. Michael Trautmann|Dana Melanie|Daniel Fredr...</td>\n",
              "      <td>Michael G. Bartlett</td>\n",
              "      <td>No kids allowed</td>\n",
              "      <td>kidnapping|brutality|violence|teenager|discovery</td>\n",
              "      <td>0</td>\n",
              "      <td>Thriller|Horror|Mystery</td>\n",
              "      <td>10/20/14</td>\n",
              "      <td>16</td>\n",
              "      <td>3.4</td>\n",
              "      <td>2014</td>\n",
              "    </tr>\n",
              "    <tr>\n",
              "      <th>1293</th>\n",
              "      <td>0.036904</td>\n",
              "      <td>0</td>\n",
              "      <td>0</td>\n",
              "      <td>Tim Maia</td>\n",
              "      <td>Robson Nunes|BabÃº Santana|Alinne Moraes|CauÃ£...</td>\n",
              "      <td>Mauro Lima</td>\n",
              "      <td>Original language PORTUGUESE</td>\n",
              "      <td>brazilian|biography|music|drama|documentary</td>\n",
              "      <td>0</td>\n",
              "      <td>Documentary|Drama|Music</td>\n",
              "      <td>10/30/14</td>\n",
              "      <td>14</td>\n",
              "      <td>6.0</td>\n",
              "      <td>2014</td>\n",
              "    </tr>\n",
              "    <tr>\n",
              "      <th>6040</th>\n",
              "      <td>0.011798</td>\n",
              "      <td>0</td>\n",
              "      <td>0</td>\n",
              "      <td>The Vatican Exorcisms</td>\n",
              "      <td>Joe Marino</td>\n",
              "      <td>Joe Marino</td>\n",
              "      <td>The public were never meant to know</td>\n",
              "      <td>exorcism</td>\n",
              "      <td>0</td>\n",
              "      <td>Horror|Documentary|Mystery</td>\n",
              "      <td>5/29/13</td>\n",
              "      <td>10</td>\n",
              "      <td>4.7</td>\n",
              "      <td>2013</td>\n",
              "    </tr>\n",
              "  </tbody>\n",
              "</table>\n",
              "</div>"
            ],
            "text/plain": [
              "      popularity   budget  revenue  ... vote_count vote_average release_year\n",
              "334     0.357654        0        0  ...         80          6.5         2015\n",
              "1289    0.037459  3250000        0  ...         16          3.4         2014\n",
              "1293    0.036904        0        0  ...         14          6.0         2014\n",
              "6040    0.011798        0        0  ...         10          4.7         2013\n",
              "\n",
              "[4 rows x 14 columns]"
            ]
          },
          "metadata": {
            "tags": []
          },
          "execution_count": 75
        }
      ]
    },
    {
      "cell_type": "code",
      "metadata": {
        "id": "JVJL3hCi2ntn"
      },
      "source": [
        "#Procedo a eliminarlas\n",
        "data.drop(data[data['runtime']<= 0].index, inplace = True)"
      ],
      "execution_count": 76,
      "outputs": []
    },
    {
      "cell_type": "code",
      "metadata": {
        "colab": {
          "base_uri": "https://localhost:8080/"
        },
        "id": "4seqsPw29VrE",
        "outputId": "be032d38-ce5c-42d0-b411-cc2e204a164d"
      },
      "source": [
        "#Convierto el runtime a horas \n",
        "data.runtime = data.runtime.apply(lambda x: '{:02d}:{:02d}'.format(*divmod(x, 60)))\n",
        "data.runtime"
      ],
      "execution_count": 18,
      "outputs": [
        {
          "output_type": "execute_result",
          "data": {
            "text/plain": [
              "0        02:04\n",
              "1        02:00\n",
              "2        01:59\n",
              "3        02:16\n",
              "4        02:17\n",
              "         ...  \n",
              "10858    02:06\n",
              "10860    01:27\n",
              "10862    02:56\n",
              "10864    01:20\n",
              "10865    01:14\n",
              "Name: runtime, Length: 7296, dtype: object"
            ]
          },
          "metadata": {
            "tags": []
          },
          "execution_count": 18
        }
      ]
    },
    {
      "cell_type": "code",
      "metadata": {
        "colab": {
          "base_uri": "https://localhost:8080/"
        },
        "id": "DazgBFEP9jlu",
        "outputId": "96b11453-8951-4972-cbb7-18af81cc9a56"
      },
      "source": [
        "#Doy formato a la fecha de lanzamiento\n",
        "data.release_date = pd.to_datetime(data['release_date'])\n",
        "data.release_date.head(5)"
      ],
      "execution_count": 77,
      "outputs": [
        {
          "output_type": "execute_result",
          "data": {
            "text/plain": [
              "0   2015-06-09\n",
              "1   2015-05-13\n",
              "2   2015-03-18\n",
              "3   2015-12-15\n",
              "4   2015-04-01\n",
              "Name: release_date, dtype: datetime64[ns]"
            ]
          },
          "metadata": {
            "tags": []
          },
          "execution_count": 77
        }
      ]
    },
    {
      "cell_type": "code",
      "metadata": {
        "colab": {
          "base_uri": "https://localhost:8080/"
        },
        "id": "AZJg9wpf-MIO",
        "outputId": "100efc4f-8735-480b-9d90-805715ca6fa6"
      },
      "source": [
        "#Agregare una columna donde muestre las ganacias por película\n",
        "data['ganancia']=data.revenue - data.budget\n",
        "data.ganancia.head(10)"
      ],
      "execution_count": 78,
      "outputs": [
        {
          "output_type": "execute_result",
          "data": {
            "text/plain": [
              "0    1363528810\n",
              "1     228436354\n",
              "2     185238201\n",
              "3    1868178225\n",
              "4    1316249360\n",
              "5     397950503\n",
              "6     285603537\n",
              "7     487380321\n",
              "8    1082730962\n",
              "9     678708609\n",
              "Name: ganancia, dtype: int64"
            ]
          },
          "metadata": {
            "tags": []
          },
          "execution_count": 78
        }
      ]
    },
    {
      "cell_type": "code",
      "metadata": {
        "colab": {
          "base_uri": "https://localhost:8080/"
        },
        "id": "gH4qExJR-_Zw",
        "outputId": "2135c31f-8b04-4c03-d474-4c122ef30348"
      },
      "source": [
        "data.shape"
      ],
      "execution_count": 79,
      "outputs": [
        {
          "output_type": "execute_result",
          "data": {
            "text/plain": [
              "(7296, 15)"
            ]
          },
          "metadata": {
            "tags": []
          },
          "execution_count": 79
        }
      ]
    },
    {
      "cell_type": "markdown",
      "metadata": {
        "id": "mXobQq0U-1R7"
      },
      "source": [
        "\n",
        "\n",
        "\n",
        "---\n",
        "\n",
        "\n",
        "---\n",
        "\n"
      ]
    },
    {
      "cell_type": "markdown",
      "metadata": {
        "id": "_c-fE5QDFM3E"
      },
      "source": [
        "# ¿Qué mes se considera “mejor” para estrenar una película o show?\n",
        "\n",
        "\n",
        "---\n",
        "\n",
        "RTA: Diciembre pero como muestro en la solución las compañias prefieren estrenar sus películas en el mes de septiembre, siendo estos lanzamientos poco rentables."
      ]
    },
    {
      "cell_type": "code",
      "metadata": {
        "id": "C2JW7zgcAqNQ"
      },
      "source": [
        "#Añado una columna a la data donde sea los meses de estreno por pelicula\n",
        "data['release_month'] = data['release_date'].dt.month"
      ],
      "execution_count": 62,
      "outputs": []
    },
    {
      "cell_type": "code",
      "metadata": {
        "colab": {
          "base_uri": "https://localhost:8080/",
          "height": 314
        },
        "id": "Oy8TzL04LWFL",
        "outputId": "98f16384-8617-4c5b-cd20-3e5c6a855737"
      },
      "source": [
        "#\n",
        "rev_sum = data.groupby('release_month').median()['ganancia']\n",
        "plt.plot(rev_sum.index , rev_sum ); \n",
        "plt.title(\"Mes vs Ganancia\");\n",
        "plt.xlabel('Mes');\n",
        "plt.ylabel('Ganancia');\n",
        "\n",
        "print('La mayoria de las películas que obtuvieron mayor ganacia fue cuando se estrenaron en el mes: ', rev_sum.sort_values().index[-1] )\n",
        "\n",
        " "
      ],
      "execution_count": 76,
      "outputs": [
        {
          "output_type": "stream",
          "text": [
            "La mayoria de las películas que obtuvieron mayor ganacia fue cuando se estrenaron en el mes:  12\n"
          ],
          "name": "stdout"
        },
        {
          "output_type": "display_data",
          "data": {
            "image/png": "[encoded data removed]",
            "text/plain": [
              "<Figure size 432x288 with 1 Axes>"
            ]
          },
          "metadata": {
            "tags": [],
            "needs_background": "light"
          }
        }
      ]
    },
    {
      "cell_type": "code",
      "metadata": {
        "colab": {
          "base_uri": "https://localhost:8080/",
          "height": 332
        },
        "id": "VflC2WfzErtN",
        "outputId": "554087b8-4298-4c5e-ff2a-216911b6840b"
      },
      "source": [
        "month_count = data['release_month'].value_counts().sort_index()\n",
        "plt.bar(month_count.index , month_count.values) \n",
        "plt.title(\"Mes/Número de Películas\")\n",
        "plt.xlabel('Mes')\n",
        "plt.ylabel('Númreo de Películas')\n",
        "\n",
        "print(\"El mes que más estrenos de películas tuvo fue: \" , data['release_month'].mode()[0] )\n",
        "print(\"El mes que menos estrenos de películas tuvo fue: \" , data['release_month'].value_counts().sort_values().index.tolist()[0] )"
      ],
      "execution_count": 79,
      "outputs": [
        {
          "output_type": "stream",
          "text": [
            "El mes que más estrenos de películas tuvo fue:  9\n",
            "El mes que menos estrenos de películas tuvo fue:  2\n"
          ],
          "name": "stdout"
        },
        {
          "output_type": "display_data",
          "data": {
            "image/png": "[encoded data removed]",
            "text/plain": [
              "<Figure size 432x288 with 1 Axes>"
            ]
          },
          "metadata": {
            "tags": [],
            "needs_background": "light"
          }
        }
      ]
    },
    {
      "cell_type": "markdown",
      "metadata": {
        "id": "oIw1vEAsF_rC"
      },
      "source": [
        "# ¿Cuál es la relación entre runtime y el promedio de votos?\n",
        "\n",
        "\n",
        "---\n",
        "RPTA: No tiene ninguna relación\n"
      ]
    },
    {
      "cell_type": "code",
      "metadata": {
        "colab": {
          "base_uri": "https://localhost:8080/"
        },
        "id": "xQb246hzPIVn",
        "outputId": "e4a2b921-69a6-43bf-d09d-71e9465123ae"
      },
      "source": [
        "data.runtime"
      ],
      "execution_count": 33,
      "outputs": [
        {
          "output_type": "execute_result",
          "data": {
            "text/plain": [
              "0        124\n",
              "1        120\n",
              "2        119\n",
              "3        136\n",
              "4        137\n",
              "        ... \n",
              "10858    126\n",
              "10860     87\n",
              "10862    176\n",
              "10864     80\n",
              "10865     74\n",
              "Name: runtime, Length: 7296, dtype: int64"
            ]
          },
          "metadata": {
            "tags": []
          },
          "execution_count": 33
        }
      ]
    },
    {
      "cell_type": "code",
      "metadata": {
        "colab": {
          "base_uri": "https://localhost:8080/",
          "height": 538
        },
        "id": "xc4IShhhLSLs",
        "outputId": "f136cf49-4f9f-45d2-e3f6-ef94721440ae"
      },
      "source": [
        "#\n",
        "rev_sum = data.groupby('runtime').median()['vote_average']\n",
        "plt.plot(rev_sum.index , rev_sum ); \n",
        "plt.title(\"Runtime vs Vote Average\");\n",
        "plt.xlabel('Runtime');\n",
        "plt.ylabel('Vote Average');\n",
        "\n",
        "print(rev_sum )\n",
        "\n",
        " "
      ],
      "execution_count": 34,
      "outputs": [
        {
          "output_type": "stream",
          "text": [
            "runtime\n",
            "4      7.80\n",
            "5      7.95\n",
            "6      7.95\n",
            "7      7.70\n",
            "9      7.00\n",
            "       ... \n",
            "470    6.60\n",
            "500    7.00\n",
            "540    7.80\n",
            "550    7.60\n",
            "705    8.00\n",
            "Name: vote_average, Length: 197, dtype: float64\n"
          ],
          "name": "stdout"
        },
        {
          "output_type": "display_data",
          "data": {
            "image/png": "[encoded data removed]",
            "text/plain": [
              "<Figure size 432x288 with 1 Axes>"
            ]
          },
          "metadata": {
            "tags": [],
            "needs_background": "light"
          }
        }
      ]
    },
    {
      "cell_type": "code",
      "metadata": {
        "colab": {
          "base_uri": "https://localhost:8080/"
        },
        "id": "-JJPXJ9yhb5C",
        "outputId": "3297c75d-412e-4ce1-bdfb-2bdf90c1eae7"
      },
      "source": [
        "data['runtime'] = pd.to_datetime(data['runtime'], infer_datetime_format=True)\n",
        "data['runtime'].mean()"
      ],
      "execution_count": 35,
      "outputs": [
        {
          "output_type": "execute_result",
          "data": {
            "text/plain": [
              "Timestamp('1970-01-01 00:00:00.000000104')"
            ]
          },
          "metadata": {
            "tags": []
          },
          "execution_count": 35
        }
      ]
    },
    {
      "cell_type": "markdown",
      "metadata": {
        "id": "V1KPMnp8gzY_"
      },
      "source": [
        "#  ¿Hay géneros específicos asociados a mayores ingresos?\n",
        "\n",
        "\n",
        "---\n",
        "\n"
      ]
    },
    {
      "cell_type": "code",
      "metadata": {
        "colab": {
          "base_uri": "https://localhost:8080/"
        },
        "id": "dJ_TrxhSi1DS",
        "outputId": "aaaa138b-2293-4a67-f58e-3b1988b4e862"
      },
      "source": [
        "#Muestro los generos y  el total de peliculas \n",
        "genres_count = pd.Series(data['genres'].str.cat(sep = '|').split('|')).value_counts(ascending = False)\n",
        "genres_count"
      ],
      "execution_count": 112,
      "outputs": [
        {
          "output_type": "execute_result",
          "data": {
            "text/plain": [
              "Drama              3221\n",
              "Comedy             2620\n",
              "Thriller           2193\n",
              "Action             1796\n",
              "Horror             1191\n",
              "Romance            1167\n",
              "Adventure          1112\n",
              "Crime              1075\n",
              "Science Fiction     937\n",
              "Family              769\n",
              "Fantasy             660\n",
              "Mystery             616\n",
              "Animation           370\n",
              "Music               255\n",
              "History             222\n",
              "Documentary         201\n",
              "War                 190\n",
              "Western             134\n",
              "TV Movie             64\n",
              "Foreign              48\n",
              "dtype: int64"
            ]
          },
          "metadata": {
            "tags": []
          },
          "execution_count": 112
        }
      ]
    },
    {
      "cell_type": "code",
      "metadata": {
        "colab": {
          "base_uri": "https://localhost:8080/",
          "height": 374
        },
        "id": "B93p3_1XjOJs",
        "outputId": "bdf72d00-3839-4656-f408-eceb9af30135"
      },
      "source": [
        "cmap = plt.cm.tab10\n",
        "colors = cmap(np.arange(len(data)) % cmap.N)\n",
        "diagram = genres_count.plot.bar(fontsize = 12,color=colors)\n",
        "plt.title('Géneros de Películas')\n",
        "plt.xlabel('Género')\n",
        "plt.ylabel('Número de Películas')\n",
        "plt.show();"
      ],
      "execution_count": 111,
      "outputs": [
        {
          "output_type": "display_data",
          "data": {
            "image/png": "[encoded data removed]",
            "text/plain": [
              "<Figure size 432x288 with 1 Axes>"
            ]
          },
          "metadata": {
            "tags": [],
            "needs_background": "light"
          }
        }
      ]
    },
    {
      "cell_type": "code",
      "metadata": {
        "colab": {
          "base_uri": "https://localhost:8080/",
          "height": 404
        },
        "id": "wQnW46d9ls_M",
        "outputId": "c8ae3cb6-aa59-435f-f900-34b0bf43ccdf"
      },
      "source": [
        "data[['genere1']] = data.genres.str.split(\"|\",expand=True).iloc[:,:1]\n",
        "data.genere1\n",
        "#data = data.groupby(['genere1']).\n",
        "data_filtro = data.groupby(['release_year' , 'genere1']).count()['popularity'][data.groupby(['release_year' , 'genere1']).count()['popularity']>30]\n",
        "data_filtro.unstack().plot(kind='bar', stacked=True  , figsize=(20,6));"
      ],
      "execution_count": 80,
      "outputs": [
        {
          "output_type": "display_data",
          "data": {
            "image/png": "[encoded data removed]",
            "text/plain": [
              "<Figure size 1440x432 with 1 Axes>"
            ]
          },
          "metadata": {
            "tags": [],
            "needs_background": "light"
          }
        }
      ]
    },
    {
      "cell_type": "markdown",
      "metadata": {
        "id": "KtrG4fMOBtIF"
      },
      "source": [
        "# ¿Qué año tiene el mayor estreno de películas?\n",
        "\n",
        "\n",
        "---\n",
        "\n",
        "RPTA: El año:  2014  con  393  películas estrenadas."
      ]
    },
    {
      "cell_type": "code",
      "metadata": {
        "colab": {
          "base_uri": "https://localhost:8080/",
          "height": 325
        },
        "id": "SfWTxsqRB4Vj",
        "outputId": "2ad64d64-7808-432a-d562-659ce3687794"
      },
      "source": [
        "year_estreno_count = pd.Series(data['release_year']).value_counts(ascending = False)\n",
        "cmap = plt.cm.tab10\n",
        "colors = cmap(np.arange(len(data)) % cmap.N)\n",
        "diagram = year_estreno_count.plot.bar(fontsize = 8,color=colors)\n",
        "plt.title('Año con mayor cantidad de estrenos')\n",
        "plt.xlabel('Año')\n",
        "plt.ylabel('Número de Estrenos')\n",
        "plt.show();\n",
        "print(\"RPTA: El año: \", year_estreno_count.index[0], \" con \",  year_estreno_count.get(year_estreno_count.index[0]) , \" películas estrenadas.\" )"
      ],
      "execution_count": 107,
      "outputs": [
        {
          "output_type": "display_data",
          "data": {
            "image/png": "[encoded data removed]",
            "text/plain": [
              "<Figure size 432x288 with 1 Axes>"
            ]
          },
          "metadata": {
            "tags": [],
            "needs_background": "light"
          }
        },
        {
          "output_type": "stream",
          "text": [
            "RPTA: El año:  2014  con  393  películas estrenadas.\n"
          ],
          "name": "stdout"
        }
      ]
    },
    {
      "cell_type": "markdown",
      "metadata": {
        "id": "fqDYfnGOrPOd"
      },
      "source": [
        "# ¿Cuántas películas se estrenan año tras años?\n",
        "\n",
        "---\n",
        "RPTA: Líneas abajo\n"
      ]
    },
    {
      "cell_type": "code",
      "metadata": {
        "colab": {
          "base_uri": "https://localhost:8080/",
          "height": 1000
        },
        "id": "-spQwKTHrkOR",
        "outputId": "78194bb5-6a3a-4311-e98b-f31a9b24081a"
      },
      "source": [
        "year_estreno_count = pd.Series(data['release_year']).value_counts(ascending = True)\n",
        "plt.bar(year_estreno_count.index , year_estreno_count.values) \n",
        "plt.title(\"Películas que se estrenan año tras año\")\n",
        "plt.xlabel('Año')\n",
        "plt.ylabel('Número de estrenos')\n",
        "print(year_estreno_count)\n"
      ],
      "execution_count": 118,
      "outputs": [
        {
          "output_type": "stream",
          "text": [
            "1969     20\n",
            "1961     26\n",
            "1960     28\n",
            "1962     29\n",
            "1965     29\n",
            "1963     29\n",
            "1967     31\n",
            "1970     32\n",
            "1968     33\n",
            "1972     34\n",
            "1975     34\n",
            "1974     37\n",
            "1964     39\n",
            "1976     39\n",
            "1966     40\n",
            "1971     46\n",
            "1977     48\n",
            "1973     50\n",
            "1979     51\n",
            "1978     53\n",
            "1980     66\n",
            "1982     67\n",
            "1981     67\n",
            "1983     68\n",
            "1985     84\n",
            "1984     87\n",
            "1991     92\n",
            "1987     93\n",
            "1989     99\n",
            "1986    104\n",
            "1990    105\n",
            "1988    110\n",
            "1992    112\n",
            "1994    136\n",
            "1995    137\n",
            "1993    141\n",
            "1997    150\n",
            "1999    162\n",
            "1996    162\n",
            "1998    163\n",
            "2000    165\n",
            "2001    175\n",
            "2003    181\n",
            "2002    195\n",
            "2004    210\n",
            "2005    241\n",
            "2007    270\n",
            "2006    272\n",
            "2008    281\n",
            "2010    300\n",
            "2012    316\n",
            "2009    320\n",
            "2011    327\n",
            "2015    355\n",
            "2013    362\n",
            "2014    393\n",
            "Name: release_year, dtype: int64\n"
          ],
          "name": "stdout"
        },
        {
          "output_type": "display_data",
          "data": {
            "image/png": "[encoded data removed]",
            "text/plain": [
              "<Figure size 432x288 with 1 Axes>"
            ]
          },
          "metadata": {
            "tags": [],
            "needs_background": "light"
          }
        }
      ]
    },
    {
      "cell_type": "markdown",
      "metadata": {
        "id": "YL-3M9SHs-3j"
      },
      "source": [
        "# ¿Películas con el presupuesto más alto y más bajo?\n",
        "\n",
        "---\n",
        "\n"
      ]
    },
    {
      "cell_type": "code",
      "metadata": {
        "colab": {
          "base_uri": "https://localhost:8080/",
          "height": 1000
        },
        "id": "DGqi7FhptG3-",
        "outputId": "708fa28a-1a14-443a-a6eb-3dd140b0f3c2"
      },
      "source": [
        "data"
      ],
      "execution_count": 119,
      "outputs": [
        {
          "output_type": "execute_result",
          "data": {
            "text/html": [
              "<div>\n",
              "<style scoped>\n",
              "    .dataframe tbody tr th:only-of-type {\n",
              "        vertical-align: middle;\n",
              "    }\n",
              "\n",
              "    .dataframe tbody tr th {\n",
              "        vertical-align: top;\n",
              "    }\n",
              "\n",
              "    .dataframe thead th {\n",
              "        text-align: right;\n",
              "    }\n",
              "</style>\n",
              "<table border=\"1\" class=\"dataframe\">\n",
              "  <thead>\n",
              "    <tr style=\"text-align: right;\">\n",
              "      <th></th>\n",
              "      <th>popularity</th>\n",
              "      <th>budget</th>\n",
              "      <th>revenue</th>\n",
              "      <th>original_title</th>\n",
              "      <th>cast</th>\n",
              "      <th>director</th>\n",
              "      <th>tagline</th>\n",
              "      <th>keywords</th>\n",
              "      <th>runtime</th>\n",
              "      <th>genres</th>\n",
              "      <th>release_date</th>\n",
              "      <th>vote_count</th>\n",
              "      <th>vote_average</th>\n",
              "      <th>release_year</th>\n",
              "      <th>ganancia</th>\n",
              "      <th>genere1</th>\n",
              "    </tr>\n",
              "  </thead>\n",
              "  <tbody>\n",
              "    <tr>\n",
              "      <th>0</th>\n",
              "      <td>32.985763</td>\n",
              "      <td>150000000</td>\n",
              "      <td>1513528810</td>\n",
              "      <td>Jurassic World</td>\n",
              "      <td>Chris Pratt|Bryce Dallas Howard|Irrfan Khan|Vi...</td>\n",
              "      <td>Colin Trevorrow</td>\n",
              "      <td>The park is open.</td>\n",
              "      <td>monster|dna|tyrannosaurus rex|velociraptor|island</td>\n",
              "      <td>124</td>\n",
              "      <td>Action|Adventure|Science Fiction|Thriller</td>\n",
              "      <td>2015-06-09</td>\n",
              "      <td>5562</td>\n",
              "      <td>6.5</td>\n",
              "      <td>2015</td>\n",
              "      <td>1363528810</td>\n",
              "      <td>Action</td>\n",
              "    </tr>\n",
              "    <tr>\n",
              "      <th>1</th>\n",
              "      <td>28.419936</td>\n",
              "      <td>150000000</td>\n",
              "      <td>378436354</td>\n",
              "      <td>Mad Max: Fury Road</td>\n",
              "      <td>Tom Hardy|Charlize Theron|Hugh Keays-Byrne|Nic...</td>\n",
              "      <td>George Miller</td>\n",
              "      <td>What a Lovely Day.</td>\n",
              "      <td>future|chase|post-apocalyptic|dystopia|australia</td>\n",
              "      <td>120</td>\n",
              "      <td>Action|Adventure|Science Fiction|Thriller</td>\n",
              "      <td>2015-05-13</td>\n",
              "      <td>6185</td>\n",
              "      <td>7.1</td>\n",
              "      <td>2015</td>\n",
              "      <td>228436354</td>\n",
              "      <td>Action</td>\n",
              "    </tr>\n",
              "    <tr>\n",
              "      <th>2</th>\n",
              "      <td>13.112507</td>\n",
              "      <td>110000000</td>\n",
              "      <td>295238201</td>\n",
              "      <td>Insurgent</td>\n",
              "      <td>Shailene Woodley|Theo James|Kate Winslet|Ansel...</td>\n",
              "      <td>Robert Schwentke</td>\n",
              "      <td>One Choice Can Destroy You</td>\n",
              "      <td>based on novel|revolution|dystopia|sequel|dyst...</td>\n",
              "      <td>119</td>\n",
              "      <td>Adventure|Science Fiction|Thriller</td>\n",
              "      <td>2015-03-18</td>\n",
              "      <td>2480</td>\n",
              "      <td>6.3</td>\n",
              "      <td>2015</td>\n",
              "      <td>185238201</td>\n",
              "      <td>Adventure</td>\n",
              "    </tr>\n",
              "    <tr>\n",
              "      <th>3</th>\n",
              "      <td>11.173104</td>\n",
              "      <td>200000000</td>\n",
              "      <td>2068178225</td>\n",
              "      <td>Star Wars: The Force Awakens</td>\n",
              "      <td>Harrison Ford|Mark Hamill|Carrie Fisher|Adam D...</td>\n",
              "      <td>J.J. Abrams</td>\n",
              "      <td>Every generation has a story.</td>\n",
              "      <td>android|spaceship|jedi|space opera|3d</td>\n",
              "      <td>136</td>\n",
              "      <td>Action|Adventure|Science Fiction|Fantasy</td>\n",
              "      <td>2015-12-15</td>\n",
              "      <td>5292</td>\n",
              "      <td>7.5</td>\n",
              "      <td>2015</td>\n",
              "      <td>1868178225</td>\n",
              "      <td>Action</td>\n",
              "    </tr>\n",
              "    <tr>\n",
              "      <th>4</th>\n",
              "      <td>9.335014</td>\n",
              "      <td>190000000</td>\n",
              "      <td>1506249360</td>\n",
              "      <td>Furious 7</td>\n",
              "      <td>Vin Diesel|Paul Walker|Jason Statham|Michelle ...</td>\n",
              "      <td>James Wan</td>\n",
              "      <td>Vengeance Hits Home</td>\n",
              "      <td>car race|speed|revenge|suspense|car</td>\n",
              "      <td>137</td>\n",
              "      <td>Action|Crime|Thriller</td>\n",
              "      <td>2015-04-01</td>\n",
              "      <td>2947</td>\n",
              "      <td>7.3</td>\n",
              "      <td>2015</td>\n",
              "      <td>1316249360</td>\n",
              "      <td>Action</td>\n",
              "    </tr>\n",
              "    <tr>\n",
              "      <th>...</th>\n",
              "      <td>...</td>\n",
              "      <td>...</td>\n",
              "      <td>...</td>\n",
              "      <td>...</td>\n",
              "      <td>...</td>\n",
              "      <td>...</td>\n",
              "      <td>...</td>\n",
              "      <td>...</td>\n",
              "      <td>...</td>\n",
              "      <td>...</td>\n",
              "      <td>...</td>\n",
              "      <td>...</td>\n",
              "      <td>...</td>\n",
              "      <td>...</td>\n",
              "      <td>...</td>\n",
              "      <td>...</td>\n",
              "    </tr>\n",
              "    <tr>\n",
              "      <th>10858</th>\n",
              "      <td>0.317824</td>\n",
              "      <td>0</td>\n",
              "      <td>0</td>\n",
              "      <td>The Russians Are Coming, The Russians Are Coming</td>\n",
              "      <td>Carl Reiner|Eva Marie Saint|Alan Arkin|Brian K...</td>\n",
              "      <td>Norman Jewison</td>\n",
              "      <td>IT'S A PLOT! ...to make the world die laughing!!</td>\n",
              "      <td>cold war|russian|new england</td>\n",
              "      <td>126</td>\n",
              "      <td>Comedy|War</td>\n",
              "      <td>2066-05-25</td>\n",
              "      <td>11</td>\n",
              "      <td>5.5</td>\n",
              "      <td>1966</td>\n",
              "      <td>0</td>\n",
              "      <td>Comedy</td>\n",
              "    </tr>\n",
              "    <tr>\n",
              "      <th>10860</th>\n",
              "      <td>0.087034</td>\n",
              "      <td>0</td>\n",
              "      <td>0</td>\n",
              "      <td>Carry On Screaming!</td>\n",
              "      <td>Kenneth Williams|Jim Dale|Harry H. Corbett|Joa...</td>\n",
              "      <td>Gerald Thomas</td>\n",
              "      <td>Carry On Screaming with the Hilarious CARRY ON...</td>\n",
              "      <td>monster|carry on|horror spoof</td>\n",
              "      <td>87</td>\n",
              "      <td>Comedy</td>\n",
              "      <td>2066-05-20</td>\n",
              "      <td>13</td>\n",
              "      <td>7.0</td>\n",
              "      <td>1966</td>\n",
              "      <td>0</td>\n",
              "      <td>Comedy</td>\n",
              "    </tr>\n",
              "    <tr>\n",
              "      <th>10862</th>\n",
              "      <td>0.065543</td>\n",
              "      <td>0</td>\n",
              "      <td>0</td>\n",
              "      <td>Grand Prix</td>\n",
              "      <td>James Garner|Eva Marie Saint|Yves Montand|Tosh...</td>\n",
              "      <td>John Frankenheimer</td>\n",
              "      <td>Cinerama sweeps YOU into a drama of speed and ...</td>\n",
              "      <td>car race|racing|formula 1</td>\n",
              "      <td>176</td>\n",
              "      <td>Action|Adventure|Drama</td>\n",
              "      <td>2066-12-21</td>\n",
              "      <td>20</td>\n",
              "      <td>5.7</td>\n",
              "      <td>1966</td>\n",
              "      <td>0</td>\n",
              "      <td>Action</td>\n",
              "    </tr>\n",
              "    <tr>\n",
              "      <th>10864</th>\n",
              "      <td>0.064317</td>\n",
              "      <td>0</td>\n",
              "      <td>0</td>\n",
              "      <td>What's Up, Tiger Lily?</td>\n",
              "      <td>Tatsuya Mihashi|Akiko Wakabayashi|Mie Hama|Joh...</td>\n",
              "      <td>Woody Allen</td>\n",
              "      <td>WOODY ALLEN STRIKES BACK!</td>\n",
              "      <td>spoof</td>\n",
              "      <td>80</td>\n",
              "      <td>Action|Comedy</td>\n",
              "      <td>2066-11-02</td>\n",
              "      <td>22</td>\n",
              "      <td>5.4</td>\n",
              "      <td>1966</td>\n",
              "      <td>0</td>\n",
              "      <td>Action</td>\n",
              "    </tr>\n",
              "    <tr>\n",
              "      <th>10865</th>\n",
              "      <td>0.035919</td>\n",
              "      <td>19000</td>\n",
              "      <td>0</td>\n",
              "      <td>Manos: The Hands of Fate</td>\n",
              "      <td>Harold P. Warren|Tom Neyman|John Reynolds|Dian...</td>\n",
              "      <td>Harold P. Warren</td>\n",
              "      <td>It's Shocking! It's Beyond Your Imagination!</td>\n",
              "      <td>fire|gun|drive|sacrifice|flashlight</td>\n",
              "      <td>74</td>\n",
              "      <td>Horror</td>\n",
              "      <td>2066-11-15</td>\n",
              "      <td>15</td>\n",
              "      <td>1.5</td>\n",
              "      <td>1966</td>\n",
              "      <td>-19000</td>\n",
              "      <td>Horror</td>\n",
              "    </tr>\n",
              "  </tbody>\n",
              "</table>\n",
              "<p>7296 rows × 16 columns</p>\n",
              "</div>"
            ],
            "text/plain": [
              "       popularity     budget     revenue  ... release_year    ganancia    genere1\n",
              "0       32.985763  150000000  1513528810  ...         2015  1363528810     Action\n",
              "1       28.419936  150000000   378436354  ...         2015   228436354     Action\n",
              "2       13.112507  110000000   295238201  ...         2015   185238201  Adventure\n",
              "3       11.173104  200000000  2068178225  ...         2015  1868178225     Action\n",
              "4        9.335014  190000000  1506249360  ...         2015  1316249360     Action\n",
              "...           ...        ...         ...  ...          ...         ...        ...\n",
              "10858    0.317824          0           0  ...         1966           0     Comedy\n",
              "10860    0.087034          0           0  ...         1966           0     Comedy\n",
              "10862    0.065543          0           0  ...         1966           0     Action\n",
              "10864    0.064317          0           0  ...         1966           0     Action\n",
              "10865    0.035919      19000           0  ...         1966      -19000     Horror\n",
              "\n",
              "[7296 rows x 16 columns]"
            ]
          },
          "metadata": {
            "tags": []
          },
          "execution_count": 119
        }
      ]
    }
  ]
}